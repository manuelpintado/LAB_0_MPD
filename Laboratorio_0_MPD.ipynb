{
 "cells": [
  {
   "cell_type": "markdown",
   "metadata": {
    "collapsed": true,
    "pycharm": {
     "name": "#%% md\n"
    }
   },
   "source": [
    "<img src=\"http://oci02.img.iteso.mx/identidad_de_instancia_2018/ITESO/Logos%20ITESO/Logo-ITESO-Principal.jpg\">"
   ]
  },
  {
   "cell_type": "markdown",
   "metadata": {},
   "source": [
    "<center> <font color= #004A94> <font size = 6> Lic. Ingeniería Financiera </font> <br> <br> <font color= #047CFB> <font size = 4>I.F. Manuel Pintado Delfin - if707405@iteso.mx </font>"
   ]
  },
  {
   "cell_type": "markdown",
   "metadata": {},
   "source": [
    "<center><font color= #004A94> <font size = 6> Microestructura y Sistemas de Trading </font> <br> <br>"
   ]
  },
  {
   "cell_type": "markdown",
   "metadata": {},
   "source": [
    "<center><font color=#42c29b><font size=5> Laboratorio 0: Herramientas Computacionales </font> <br> <br>"
   ]
  },
  {
   "cell_type": "markdown",
   "metadata": {},
   "source": [
    "<center> <font color= #047CFB> <font size = 4> Primavera 2020 </font>  |  <font color= #047CFB> <font size = 4> Repositorio: <a href='https://github.com//manuelpintado/LAB_0_MPD'>Link</a></font>"
   ]
  },
  {
   "cell_type": "markdown",
   "metadata": {},
   "source": [
    "# Resumen"
   ]
  },
  {
   "cell_type": "markdown",
   "metadata": {},
   "source": [
    "Este fue un laboratorio en el que se recuperaron las bases de programación y de comandos básicos. Se utiliza la api de Oanda para descargar precios masivos y posteriormente realizar acciones y calculos sobre esa base de datos. Para este laboratorio se utilizan algunas funciones que se encuentran en otros archivos (funciones, visualizaciones y datos) y se deben de importar los archivos para poder ejecutar el codigo. \n",
    "\n",
    "* `Dentro del archivo de funciones, se encuentra la funcion para utilizar la api de oanda y descargar los precios.`\n",
    "\n",
    "* `Dentro del archivo de visualizaciones vienen las funciones para graficar la gráfica de velas y la de caja discriminando los valores extremos.`\n",
    "\n",
    "* `Dentro del archivo de datos viene el token para entrar a Oanda.`"
   ]
  },
  {
   "cell_type": "markdown",
   "metadata": {},
   "source": [
    "# Codigo"
   ]
  },
  {
   "cell_type": "markdown",
   "metadata": {
    "pycharm": {
     "name": "#%%\n"
    }
   },
   "source": [
    "#### Se importan las funciones"
   ]
  },
  {
   "cell_type": "code",
   "execution_count": 1,
   "metadata": {},
   "outputs": [
    {
     "ename": "ModuleNotFoundError",
     "evalue": "No module named 'oandapyV20'",
     "output_type": "error",
     "traceback": [
      "\u001b[1;31m---------------------------------------------------------------------------\u001b[0m",
      "\u001b[1;31mModuleNotFoundError\u001b[0m                       Traceback (most recent call last)",
      "\u001b[1;32m<ipython-input-1-eba118133d80>\u001b[0m in \u001b[0;36m<module>\u001b[1;34m\u001b[0m\n\u001b[1;32m----> 1\u001b[1;33m \u001b[1;32mimport\u001b[0m \u001b[0mfunciones\u001b[0m \u001b[1;32mas\u001b[0m \u001b[0mfn\u001b[0m  \u001b[1;31m# Para procesamiento de datos\u001b[0m\u001b[1;33m\u001b[0m\u001b[1;33m\u001b[0m\u001b[0m\n\u001b[0m\u001b[0;32m      2\u001b[0m \u001b[1;32mimport\u001b[0m \u001b[0mvisualizaciones\u001b[0m \u001b[1;32mas\u001b[0m \u001b[0mvs\u001b[0m  \u001b[1;31m# Para visualizacion de datos\u001b[0m\u001b[1;33m\u001b[0m\u001b[1;33m\u001b[0m\u001b[0m\n\u001b[0;32m      3\u001b[0m \u001b[1;32mimport\u001b[0m \u001b[0mpandas\u001b[0m \u001b[1;32mas\u001b[0m \u001b[0mpd\u001b[0m  \u001b[1;31m# Procesamiento de datos\u001b[0m\u001b[1;33m\u001b[0m\u001b[1;33m\u001b[0m\u001b[0m\n\u001b[0;32m      4\u001b[0m \u001b[1;32mfrom\u001b[0m \u001b[0mdatos\u001b[0m \u001b[1;32mimport\u001b[0m \u001b[0mtoken\u001b[0m \u001b[1;32mas\u001b[0m \u001b[0mOA_Ak\u001b[0m  \u001b[1;31m# Importar token para API de OANDA\u001b[0m\u001b[1;33m\u001b[0m\u001b[1;33m\u001b[0m\u001b[0m\n\u001b[0;32m      5\u001b[0m \u001b[1;32mimport\u001b[0m \u001b[0mplotly\u001b[0m\u001b[1;33m.\u001b[0m\u001b[0mgraph_objects\u001b[0m \u001b[1;32mas\u001b[0m \u001b[0mgo\u001b[0m\u001b[1;33m\u001b[0m\u001b[1;33m\u001b[0m\u001b[0m\n",
      "\u001b[1;32m~\\PycharmProjects\\MyST\\LAB_0_MPD\\funciones.py\u001b[0m in \u001b[0;36m<module>\u001b[1;34m\u001b[0m\n\u001b[0;32m     10\u001b[0m \u001b[1;32mimport\u001b[0m \u001b[0mpandas\u001b[0m \u001b[1;32mas\u001b[0m \u001b[0mpd\u001b[0m                                       \u001b[1;31m# dataframes y utilidades\u001b[0m\u001b[1;33m\u001b[0m\u001b[1;33m\u001b[0m\u001b[0m\n\u001b[0;32m     11\u001b[0m \u001b[1;32mfrom\u001b[0m \u001b[0mdatetime\u001b[0m \u001b[1;32mimport\u001b[0m \u001b[0mtimedelta\u001b[0m                            \u001b[1;31m# diferencia entre datos tipo tiempo\u001b[0m\u001b[1;33m\u001b[0m\u001b[1;33m\u001b[0m\u001b[0m\n\u001b[1;32m---> 12\u001b[1;33m \u001b[1;32mfrom\u001b[0m \u001b[0moandapyV20\u001b[0m \u001b[1;32mimport\u001b[0m \u001b[0mAPI\u001b[0m                                \u001b[1;31m# conexion con broker OANDA\u001b[0m\u001b[1;33m\u001b[0m\u001b[1;33m\u001b[0m\u001b[0m\n\u001b[0m\u001b[0;32m     13\u001b[0m \u001b[1;32mimport\u001b[0m \u001b[0moandapyV20\u001b[0m\u001b[1;33m.\u001b[0m\u001b[0mendpoints\u001b[0m\u001b[1;33m.\u001b[0m\u001b[0minstruments\u001b[0m \u001b[1;32mas\u001b[0m \u001b[0minstruments\u001b[0m    \u001b[1;31m# informacion de precios historicos\u001b[0m\u001b[1;33m\u001b[0m\u001b[1;33m\u001b[0m\u001b[0m\n\u001b[0;32m     14\u001b[0m \u001b[1;33m\u001b[0m\u001b[0m\n",
      "\u001b[1;31mModuleNotFoundError\u001b[0m: No module named 'oandapyV20'"
     ]
    }
   ],
   "source": [
    "import funciones as fn  # Para procesamiento de datos\n",
    "import visualizaciones as vs  # Para visualizacion de datos\n",
    "import pandas as pd  # Procesamiento de datos\n",
    "from datos import token as OA_Ak  # Importar token para API de OANDA\n",
    "import plotly.graph_objects as go"
   ]
  },
  {
   "cell_type": "markdown",
   "metadata": {},
   "source": [
    "#### Informacion necesaria para poder utilizar la funcion para descargar precios de Oanda"
   ]
  },
  {
   "cell_type": "code",
   "execution_count": null,
   "metadata": {},
   "outputs": [],
   "source": [
    "OA_In = \"EUR_USD\"  # Instrumento\n",
    "OA_Gn = \"D\"  # Granularidad de velas\n",
    "fini = pd.to_datetime(\"2018-07-06 00:00:00\").tz_localize('GMT')  # Fecha inicial\n",
    "ffin = pd.to_datetime(\"2019-12-06 00:00:00\").tz_localize('GMT')  # Fecha final"
   ]
  },
  {
   "cell_type": "markdown",
   "metadata": {},
   "source": [
    "#### Se descargan los precios de Oanda"
   ]
  },
  {
   "cell_type": "code",
   "execution_count": null,
   "metadata": {},
   "outputs": [],
   "source": [
    "df_pe = fn.f_precios_masivos(p0_fini=fini, p1_ffin=ffin, p2_gran=OA_Gn,\n",
    "                             p3_inst=OA_In, p4_oatk=OA_Ak, p5_ginc=4900)"
   ]
  },
  {
   "cell_type": "markdown",
   "metadata": {},
   "source": [
    "#### Visualizacion de la grafica de velas de los datos descargados"
   ]
  },
  {
   "cell_type": "code",
   "execution_count": null,
   "metadata": {},
   "outputs": [],
   "source": [
    "vs_grafica1 = vs.g_velas(p0_de=df_pe.iloc[0:120, :])\n",
    "vs_grafica1.show()"
   ]
  },
  {
   "cell_type": "markdown",
   "metadata": {},
   "source": [
    "### Ejercicios de clase"
   ]
  },
  {
   "cell_type": "markdown",
   "metadata": {},
   "source": [
    "#### Multiplcador de precios para tipo de cambio Euro/Dolar"
   ]
  },
  {
   "cell_type": "code",
   "execution_count": 2,
   "metadata": {},
   "outputs": [],
   "source": [
    "pip_mult = 10000"
   ]
  },
  {
   "cell_type": "markdown",
   "metadata": {},
   "source": [
    "#### Agregar la columna con la hora a la que se realizo el movimiento"
   ]
  },
  {
   "cell_type": "code",
   "execution_count": null,
   "metadata": {},
   "outputs": [],
   "source": [
    "df_pe['hora'] = [df_pe['TimeStamp'][i].hour for i in range(0, len(df_pe['TimeStamp']))]\n",
    "df_pe['hora'].astype(int)"
   ]
  },
  {
   "cell_type": "markdown",
   "metadata": {},
   "source": [
    "#### Agregar la columna con el día en que se realizo el movimiento"
   ]
  },
  {
   "cell_type": "code",
   "execution_count": null,
   "metadata": {},
   "outputs": [],
   "source": [
    "df_pe['dia'] = [df_pe['TimeStamp'][i].weekday() for i in range(0, len(df_pe['TimeStamp']))]"
   ]
  },
  {
   "cell_type": "markdown",
   "metadata": {},
   "source": [
    "#### Agregar columna con la diferencia entre el cierre y la apertura (amplitud de vela) para la grafica de caja y convertida a pips"
   ]
  },
  {
   "cell_type": "code",
   "execution_count": null,
   "metadata": {},
   "outputs": [],
   "source": [
    "df_pe['co'] = (df_pe['Close'] - df_pe['Open']) * pip_mult"
   ]
  },
  {
   "cell_type": "markdown",
   "metadata": {},
   "source": [
    "#### Graficar la gráfica de caja"
   ]
  },
  {
   "cell_type": "code",
   "execution_count": null,
   "metadata": {},
   "outputs": [],
   "source": [
    "vs_grafica2 = vs.g_boxplot_varios(p0_data=df_pe[['co']], p1_norm=False)\n",
    "vs_grafica2.show()"
   ]
  },
  {
   "cell_type": "markdown",
   "metadata": {},
   "source": [
    "### Ejercicios Individuales"
   ]
  },
  {
   "cell_type": "markdown",
   "metadata": {},
   "source": [
    "#### # -- 01: (1pt) ['mes'] : Mes en el que ocurrió la vela."
   ]
  },
  {
   "cell_type": "code",
   "execution_count": null,
   "metadata": {},
   "outputs": [],
   "source": [
    "df_pe['mes'] = [df_pe['TimeStamp'][i].month for i in range(0, len(df_pe['TimeStamp']))]"
   ]
  },
  {
   "cell_type": "markdown",
   "metadata": {},
   "source": [
    "#### # -- 02: (1pt) ['sesion'] : Sesion de la vela\n",
    "* `'asia':  si en la columna ['hora'] tiene alguno de estos valores -> 22, 23, 0, 1, 2, 3, 4, 5, 6, 7`\n",
    "* `'asia_europa': si en la columna ['hora'] tiene alguno de estos valores -> 8`\n",
    "* `'europa': si en la columna ['hora'] tiene alguno de estos valores -> 9, 10, 11, 12` \n",
    "* `'europa_america': si en la columna ['hora'] tiene alguno de estos valores -> 13, 14, 15, 16`\n",
    "* `'america': si en la columna ['hora'] tiene alguno de estos valores -> 17, 18, 19, 20, 21`"
   ]
  },
  {
   "cell_type": "markdown",
   "metadata": {},
   "source": [
    "##### Se generan las condiciones en un arreglo\n",
    "* `Condiciones para encontrar la sesion de la vela en base a la hora del movimiento con tupla (condicion, respuesta)`"
   ]
  },
  {
   "cell_type": "code",
   "execution_count": null,
   "metadata": {},
   "outputs": [],
   "source": [
    "conditions = [(lambda i: i == 22 or i == 23 or i == 0 or i == 1 or i == 2 or i == 3 or i == 4 or i == 5 or i == 6 or \n",
    "                         i == 7, 'asia'),\n",
    "              (lambda i: i == 8, 'asia_europa'),\n",
    "              (lambda i: i == 9 or i == 10 or i == 11 or i == 12, 'europa'),\n",
    "              (lambda i: i == 13 or i == 14 or i == 15 or i == 16, 'europa_america'),\n",
    "              (lambda i: i == 17 or i == 18 or i == 19 or i == 20 or i == 21, 'america')]"
   ]
  },
  {
   "cell_type": "markdown",
   "metadata": {},
   "source": [
    "##### Se genera la funcion\n",
    "* `Funcion para iterar la lista de horas con la tupla de condiciones y respuestas`"
   ]
  },
  {
   "cell_type": "code",
   "execution_count": null,
   "metadata": {},
   "outputs": [],
   "source": [
    "def apply_conditions(i):\n",
    "    for condition, replacement in conditions:\n",
    "        if condition(i):\n",
    "            return replacement\n",
    "    return i"
   ]
  },
  {
   "cell_type": "markdown",
   "metadata": {},
   "source": [
    "##### Se asigna la sesion de la vela en base a las condiciones \n",
    "* `Asignar la sesion utilizando a la funcion creada y las condiciones estipuladas`"
   ]
  },
  {
   "cell_type": "code",
   "execution_count": null,
   "metadata": {},
   "outputs": [],
   "source": [
    "df_pe['sesion'] = list(map(apply_conditions, df_pe['hora']))"
   ]
  },
  {
   "cell_type": "markdown",
   "metadata": {},
   "source": [
    "#### # -- 03: (1pt) ['oc']: Amplitud de vela (en pips).\n",
    "* `Calcular la diferencia entre las columnas ['Open'] y ['Close'], expresarla en pips.`"
   ]
  },
  {
   "cell_type": "code",
   "execution_count": null,
   "metadata": {},
   "outputs": [],
   "source": [
    "df_pe['oc'] = (df_pe['Open'] - df_pe['Close']) * pip_mult"
   ]
  },
  {
   "cell_type": "markdown",
   "metadata": {},
   "source": [
    "#### # -- 04: (1pt) ['hl']: Amplitud de extremos (en pips).\n",
    "* `Calcular la diferencia entre las columnas ['High'] y ['Low'], expresarla en pips.`"
   ]
  },
  {
   "cell_type": "code",
   "execution_count": null,
   "metadata": {},
   "outputs": [],
   "source": [
    "df_pe['hl'] = (df_pe['High'] - df_pe['Low']) * pip_mult"
   ]
  },
  {
   "cell_type": "markdown",
   "metadata": {},
   "source": [
    "#### # -- 05: (.5pt) ['sentido'] : Sentido de la vela (alcista o bajista)\n",
    "* `En esta columna debes de asignarle el valor de 'alcista' para cuando ['Close'] >= ['Open'] y 'bajista' en el caso contrario.`"
   ]
  },
  {
   "cell_type": "code",
   "execution_count": null,
   "metadata": {},
   "outputs": [],
   "source": [
    "df_pe['sentido'] = [\"alcista\" if df_pe['Close'][i] >= df_pe['Open'][i] else \"bajista\"\n",
    "                    for i in range(0, len(df_pe['Close']))]"
   ]
  },
  {
   "cell_type": "markdown",
   "metadata": {},
   "source": [
    "#### # -- 06: (.5pt) ['sentido_c'] Conteo de velas consecutivas alcistas/bajistas.\n",
    "* `En el DataFrame de los precios OHLC, para cada renglon, ir acumulando el valor de velas consecutivas ALCISTAS o BAJISTAS e ir haciendo el conteo de ocurrencia para cada caso. Se comienza el conteo a partir de la primera repetición, por ejemplo, ['sentido_c'] tendrá un 2  en el tiempo t cuando en el tiempo t-2 y tiempo t-1 haya sido el mismo valor que en el tiempo t.` \n",
    "\n",
    "    - `En este ejemplo ['sentido_c'] tendría un 2 (en el tiempo t-2 fue la primera vela, y la vela en tiempo t-1 y en tiempo t fueron 2 velas fueron consecutivamente en el mismo sentido).`"
   ]
  },
  {
   "cell_type": "code",
   "execution_count": null,
   "metadata": {},
   "outputs": [],
   "source": [
    "df_pe['sentido_c'] = 0\n",
    "x = 0\n",
    "for i in range(1, len(df_pe['sentido'])):\n",
    "    if df_pe['sentido'][i - 1] == df_pe['sentido'][i]:\n",
    "        x += 1\n",
    "        df_pe.loc[i, 'sentido_c'] = x\n",
    "    else:\n",
    "        x = 0\n",
    "        df_pe.loc[i, 'sentido_c'] = x"
   ]
  },
  {
   "cell_type": "markdown",
   "metadata": {},
   "source": [
    "#### # -- 07: (1pt) Ventanas móviles de volatilidad\n",
    "`Utiliza la columna de ['hl'] como una medida de \"volatilidad\" en pips de las velas. Con esta columna, genera las siguientes columnas haciendo una \"ventana móvil\" del máximo de esos últimos n valores. Las columnas serán 3, una para cada valor de la \"volatilidad móvil\" para 5, 25 y 50 velas de histórico respectivamente.`\n",
    "\n",
    "* `['volatilidad_5']: Utilizando la información de las 5 anteriores velas.`\n",
    "* `['volatilidad_25']: Utilizando la información de las 25 anteriores velas.`\n",
    "* `['volatilidad_50']: Utilizando la información de las 50 anteriores velas.`\n",
    "\n",
    "`Recuerda que la \"volatilidad\" en una serie de tiempo financiera es, usualmente, la desviación estándar de los rendimientos, sin embargo, uno puede proponer otros \"estadísticos\" para representar la \"variabilidad\" entre los datos.En este caso, probaremos generar esta información sólo tomando en cuenta la columna ['hl']. Así que, no es necesario calcular rendimientos en esta ocasión.`"
   ]
  },
  {
   "cell_type": "code",
   "execution_count": null,
   "metadata": {},
   "outputs": [],
   "source": [
    "x = df_pe.columns.get_loc('hl')\n",
    "df_pe['variabilidad_5'] = df_pe.iloc[:, x].rolling(window=5).mean()\n",
    "df_pe['variabilidad_25'] = df_pe.iloc[:, x].rolling(window=25).mean()\n",
    "df_pe['variabilidad_50'] = df_pe.iloc[:, x].rolling(window=50).mean()"
   ]
  },
  {
   "cell_type": "markdown",
   "metadata": {},
   "source": [
    "#### # -- 08: (1pt) Gráfica con Plotly\n",
    "`Realiza una propuesta de gráfica utilizando alguna de las columnas que has generado y la librería plotly. \n",
    "Las reglas son las siguientes:`\n",
    "1. `Tiene que tener título de gráfica`\n",
    "1. `Tiene que tener título de eje x y etiquetas de eje x`\n",
    "1. `Tiene que tener título de eje y y etiquetas de eje y`\n",
    "1. `Se debe de poder visualizar una leyenda (en cualquier posición).`"
   ]
  },
  {
   "cell_type": "markdown",
   "metadata": {},
   "source": [
    "Se graficaron las 3 lineas de las variabilidades relizadas en el ejercicio 7. "
   ]
  },
  {
   "cell_type": "code",
   "execution_count": null,
   "metadata": {},
   "outputs": [],
   "source": [
    "vs_grafica3 = go.Figure()\n",
    "vs_grafica3.add_trace(go.Scatter(x=df_pe['TimeStamp'], y=df_pe['variabilidad_5'], name=\"MA 5\"))\n",
    "vs_grafica3.add_trace(go.Scatter(x=df_pe['TimeStamp'], y=df_pe['variabilidad_25'], name=\"MA 25\"))\n",
    "vs_grafica3.add_trace(go.Scatter(x=df_pe['TimeStamp'], y=df_pe['variabilidad_50'], name=\"MA 50\"))\n",
    "vs_grafica3.update_layout(title={'text': \"Moving Average Variabilidad HighLow\",\n",
    "                                 'y': 0.9,\n",
    "                                 'x': 0.5,\n",
    "                                 'xanchor': 'center',\n",
    "                                 'yanchor': 'middle'},\n",
    "                          xaxis_title=\"Fecha\", yaxis_title=\"Pips\",\n",
    "                          font=dict(family=\"Courier New, monospace\", size=18, color=\"#7f7f7f\"))\n",
    "vs_grafica3.show()"
   ]
  }
 ],
 "metadata": {
  "kernelspec": {
   "display_name": "Python 3",
   "language": "python",
   "name": "python3"
  },
  "language_info": {
   "codemirror_mode": {
    "name": "ipython",
    "version": 3
   },
   "file_extension": ".py",
   "mimetype": "text/x-python",
   "name": "python",
   "nbconvert_exporter": "python",
   "pygments_lexer": "ipython3",
   "version": "3.7.3"
  },
  "pycharm": {
   "stem_cell": {
    "cell_type": "raw",
    "metadata": {
     "collapsed": false
    },
    "source": []
   }
  }
 },
 "nbformat": 4,
 "nbformat_minor": 1
}
